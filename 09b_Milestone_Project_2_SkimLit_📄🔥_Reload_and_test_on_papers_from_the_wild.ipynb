{
  "nbformat": 4,
  "nbformat_minor": 0,
  "metadata": {
    "colab": {
      "provenance": [],
      "gpuType": "T4",
      "mount_file_id": "1H7zgSRxvTz4lBeTYrmRDAQzxO61vBi0m",
      "authorship_tag": "ABX9TyPBu+942Rnif0qRyNSzqwQU",
      "include_colab_link": true
    },
    "kernelspec": {
      "name": "python3",
      "display_name": "Python 3"
    },
    "language_info": {
      "name": "python"
    },
    "accelerator": "GPU"
  },
  "cells": [
    {
      "cell_type": "markdown",
      "metadata": {
        "id": "view-in-github",
        "colab_type": "text"
      },
      "source": [
        "<a href=\"https://colab.research.google.com/github/fedassembly/tensorflow-cert-prep/blob/main/09b_Milestone_Project_2_SkimLit_%F0%9F%93%84%F0%9F%94%A5_Reload_and_test_on_papers_from_the_wild.ipynb\" target=\"_parent\"><img src=\"https://colab.research.google.com/assets/colab-badge.svg\" alt=\"Open In Colab\"/></a>"
      ]
    },
    {
      "cell_type": "code",
      "execution_count": null,
      "metadata": {
        "id": "8wZ-ozttIdiN"
      },
      "outputs": [],
      "source": [
        "from bs4 import BeautifulSoup\n",
        "import tensorflow as tf\n",
        "import requests\n",
        "import re\n",
        "import json\n",
        "from pathlib import Path"
      ]
    },
    {
      "cell_type": "markdown",
      "source": [
        "## Reload model"
      ],
      "metadata": {
        "id": "o8yImSXD_gfy"
      }
    },
    {
      "cell_type": "code",
      "source": [
        "DATA_DIR = \"drive/MyDrive/PubMedProject/data/\"\n",
        "LABELS = {\"BACKGROUND\": 0, \"CONCLUSIONS\": 1, \"METHODS\": 2, \"OBJECTIVE\": 3, \"RESULTS\": 4}\n",
        "\n",
        "label_lookup = {v: k for k, v in LABELS.items()}\n",
        "\n",
        "def tfrecord_to_tensors(example_proto):\n",
        "  \"\"\"Parse features as tensors from TFRecordDatset.\"\"\"\n",
        "  feature_description = {\n",
        "      \"text\": tf.io.FixedLenFeature([], tf.string),\n",
        "      \"line\": tf.io.FixedLenFeature([], tf.int64),\n",
        "      \"total_lines\": tf.io.FixedLenFeature([], tf.int64),\n",
        "      \"label\": tf.io.FixedLenFeature([len(LABELS)], tf.float32),\n",
        "  }\n",
        "  example = tf.io.parse_single_example(example_proto, feature_description)\n",
        "  text = example[\"text\"]\n",
        "  line = example[\"line\"]\n",
        "  total_lines = example[\"total_lines\"]\n",
        "  label = example[\"label\"]\n",
        "  return {\"text\": text, \"line\": line, \"total_lines\": total_lines}, label\n",
        "\n",
        "def create_dataset(file_path):\n",
        "  \"\"\"Create tf.data.Dataset from tfrecord.\"\"\"\n",
        "  input_file = Path(file_path)\n",
        "  stem = input_file.stem\n",
        "  with open(input_file.with_suffix(\".metadata\"), \"r\") as meta_file:\n",
        "    metadata = json.load(meta_file)\n",
        "    n = metadata[\"num_examples\"]\n",
        "  files = list(input_file.parent.glob(f\"{stem}*.tfrecord\"))\n",
        "  raw_dataset = tf.data.TFRecordDataset(files)\n",
        "  raw_dataset = raw_dataset.apply(tf.data.experimental.assert_cardinality(n)) # so .cardinality() and len() work\n",
        "  ds = raw_dataset.map(tfrecord_to_tensors, num_parallel_calls=tf.data.AUTOTUNE)\n",
        "  return ds\n",
        "\n",
        "dev_ds = create_dataset(DATA_DIR + \"dev.tfrecord\")\n",
        "dev_ds = dev_ds.batch(32).prefetch(tf.data.AUTOTUNE)"
      ],
      "metadata": {
        "id": "6t0BqqI5-qvO"
      },
      "execution_count": null,
      "outputs": []
    },
    {
      "cell_type": "code",
      "source": [
        "tf.keras.mixed_precision.set_global_policy(\"mixed_float16\")\n",
        "\n",
        "model = tf.keras.saving.load_model(\"drive/MyDrive/PubMedProject/model/pubmed_abstract.tf\")"
      ],
      "metadata": {
        "id": "9deBDx_rQfKF"
      },
      "execution_count": null,
      "outputs": []
    },
    {
      "cell_type": "code",
      "source": [
        "model.evaluate(dev_ds)"
      ],
      "metadata": {
        "colab": {
          "base_uri": "https://localhost:8080/"
        },
        "id": "364qurmv_Xw8",
        "outputId": "605b8347-f2b9-4e35-9aa1-0f972d6ba79d"
      },
      "execution_count": null,
      "outputs": [
        {
          "output_type": "stream",
          "name": "stdout",
          "text": [
            "945/945 [==============================] - 19s 14ms/step - loss: 0.5067 - accuracy: 0.8736\n"
          ]
        },
        {
          "output_type": "execute_result",
          "data": {
            "text/plain": [
              "[0.5067348480224609, 0.873593270778656]"
            ]
          },
          "metadata": {},
          "execution_count": 4
        }
      ]
    },
    {
      "cell_type": "markdown",
      "source": [
        "## Test model on abstract from the wild"
      ],
      "metadata": {
        "id": "9nBhYI8W_cF8"
      }
    },
    {
      "cell_type": "code",
      "source": [
        "import string\n",
        "from IPython.display import display, HTML\n",
        "\n",
        "\n",
        "def clean_abstract(abstract):\n",
        "  abstract = abstract.encode(\"ascii\",errors=\"ignore\").decode()\n",
        "  eos_pattern = re.compile(\"\\.(?=\\s*(?:[A-Z]|$)) \")\n",
        "  abstract = re.sub(eos_pattern, \" .\\n\", abstract)\n",
        "  digit_pattern = re.compile(\"(\\d+(?:,\\d{3})*(?:\\.\\d+)?|\\.\\d+)\")\n",
        "  abstract = re.sub(digit_pattern, \"@\", abstract)\n",
        "  punct_pattern = re.compile(\"([%s])\" % re.escape(\"\".join(set(string.punctuation) - set(\"@.-\"))))\n",
        "  abstract = re.sub(punct_pattern, r\" \\1 \", abstract)\n",
        "  abstract = re.sub(r\"(\\s)\\1+\", r\"\\1\", abstract)\n",
        "  return abstract.encode(\"ascii\",errors=\"ignore\").decode()\n",
        "\n",
        "class PaperNotRCT(Exception):\n",
        "    def __init__(self, types):\n",
        "        self.types = \"', '\".join(types) + \"'\"\n",
        "        self.message = f\"Paper must be 'Randomized Controlled Trial', but it's '{self.types}\"\n",
        "        super().__init__(self.message)\n",
        "\n",
        "def enhance_pubmed_abstract(paper_id):\n",
        "  r = requests.get(\"https://pubmed.ncbi.nlm.nih.gov/\" + str(paper_id))\n",
        "  doc = BeautifulSoup(r.text, \"html.parser\")\n",
        "  publication_types = [b.text.strip() for b in doc.find(id=\"publication-types\").find_all(\"button\")]\n",
        "  if \"Randomized Controlled Trial\" not in publication_types:\n",
        "    raise PaperNotRCT(publication_types)\n",
        "  abstract = doc.find(id = \"eng-abstract\")\n",
        "  if len(abstract.find_all(\"strong\", {\"class\": \"sub-title\"})) > 0:\n",
        "    display(HTML(\"<h2>Original:</h2>\"))\n",
        "    display(HTML(\"\".join([str(tag) for tag in abstract.find_all(\"p\")])))\n",
        "    display(HTML(\"<h2>Enhanced:</h2>\"))\n",
        "    display(HTML(\"<p>N/A</p>\"))\n",
        "    return None\n",
        "  abstract = abstract.text.strip()\n",
        "  eos_pattern = re.compile(\"(\\.(?=\\s*(?:[A-Z]|$)))\")\n",
        "  abstract_split = re.split(eos_pattern, abstract)\n",
        "  abstract_split = [abstract_split[i].strip() + abstract_split[i + 1] for i in range(0, len(abstract_split) - 1, 2)]\n",
        "  abstract_clean = clean_abstract(abstract)\n",
        "  abstract_split_clean = abstract_clean.splitlines()\n",
        "  assert len(abstract_split) == len(abstract_split_clean), \"Number of lines must be the same\"\n",
        "  inputs = {\n",
        "      \"text\": tf.constant(abstract_split_clean, dtype=tf.string),\n",
        "      \"line\": tf.constant(range(1, len(abstract_split_clean)+1), dtype=tf.int64),\n",
        "      \"total_lines\": tf.constant(len(abstract_split_clean), shape=(len(abstract_split_clean),), dtype=tf.int64)\n",
        "  }\n",
        "  pred_probas = model.predict(inputs, verbose=0)\n",
        "  pred_max = tf.argmax(pred_probas, axis=1).numpy()\n",
        "  sections = [] # list of tuples (label, text)\n",
        "  current_section = []\n",
        "  prev_label = label_lookup[pred_max[0]]\n",
        "  for i, p in enumerate(pred_max):\n",
        "    label = label_lookup[p]\n",
        "    if label != prev_label:\n",
        "      # append prev section and start a new one\n",
        "      sections.append((prev_label, \" \".join(current_section)))\n",
        "      current_section = [abstract_split[i]]\n",
        "      prev_label = label\n",
        "    else:\n",
        "      # if label is same as previous iteration keep adding\n",
        "      current_section.append(abstract_split[i])\n",
        "  # same as above but outside the loop for the very last section\n",
        "  sections.append((prev_label, \" \".join(current_section)))\n",
        "\n",
        "  enhanced_abstract = \"\".join(f\"<p><b>{label.title()}:</b> {text}</p>\" for label, text in sections)\n",
        "  display(HTML(\"<h2>Original:</h2>\"))\n",
        "  display(HTML(abstract))\n",
        "  display(HTML(\"<h2>Enhanced:</h2>\"))\n",
        "  display(HTML(enhanced_abstract))"
      ],
      "metadata": {
        "id": "YwvzwHUD_rP7"
      },
      "execution_count": null,
      "outputs": []
    },
    {
      "cell_type": "code",
      "source": [
        "enhance_pubmed_abstract(31471173)"
      ],
      "metadata": {
        "id": "soX2b4sLJRMo",
        "colab": {
          "base_uri": "https://localhost:8080/",
          "height": 323
        },
        "outputId": "7cd9385c-dba4-4b7a-d426-cafba217305b"
      },
      "execution_count": null,
      "outputs": [
        {
          "output_type": "display_data",
          "data": {
            "text/plain": [
              "<IPython.core.display.HTML object>"
            ],
            "text/html": [
              "<h2>Original:</h2>"
            ]
          },
          "metadata": {}
        },
        {
          "output_type": "display_data",
          "data": {
            "text/plain": [
              "<IPython.core.display.HTML object>"
            ],
            "text/html": [
              "Caloric restriction and intermittent fasting are known to prolong life- and healthspan in model organisms, while their effects on humans are less well studied. In a randomized controlled trial study (ClinicalTrials.gov identifier: NCT02673515), we show that 4 weeks of strict alternate day fasting (ADF) improved markers of general health in healthy, middle-aged humans while causing a 37% calorie reduction on average. No adverse effects occurred even after >6 months. ADF improved cardiovascular markers, reduced fat mass (particularly the trunk fat), improving the fat-to-lean ratio, and increased β-hydroxybutyrate, even on non-fasting days. On fasting days, the pro-aging amino-acid methionine, among others, was periodically depleted, while polyunsaturated fatty acids were elevated. We found reduced levels sICAM-1 (an age-associated inflammatory marker), low-density lipoprotein, and the metabolic regulator triiodothyronine after long-term ADF. These results shed light on the physiological impact of ADF and supports its safety. ADF could eventually become a clinically relevant intervention."
            ]
          },
          "metadata": {}
        },
        {
          "output_type": "display_data",
          "data": {
            "text/plain": [
              "<IPython.core.display.HTML object>"
            ],
            "text/html": [
              "<h2>Enhanced:</h2>"
            ]
          },
          "metadata": {}
        },
        {
          "output_type": "display_data",
          "data": {
            "text/plain": [
              "<IPython.core.display.HTML object>"
            ],
            "text/html": [
              "<p><b>Background:</b> Caloric restriction and intermittent fasting are known to prolong life- and healthspan in model organisms, while their effects on humans are less well studied. In a randomized controlled trial study (ClinicalTrials.gov identifier: NCT02673515), we show that 4 weeks of strict alternate day fasting (ADF) improved markers of general health in healthy, middle-aged humans while causing a 37% calorie reduction on average.</p><p><b>Results:</b> No adverse effects occurred even after >6 months. ADF improved cardiovascular markers, reduced fat mass (particularly the trunk fat), improving the fat-to-lean ratio, and increased β-hydroxybutyrate, even on non-fasting days. On fasting days, the pro-aging amino-acid methionine, among others, was periodically depleted, while polyunsaturated fatty acids were elevated. We found reduced levels sICAM-1 (an age-associated inflammatory marker), low-density lipoprotein, and the metabolic regulator triiodothyronine after long-term ADF.</p><p><b>Conclusions:</b> These results shed light on the physiological impact of ADF and supports its safety. ADF could eventually become a clinically relevant intervention.</p>"
            ]
          },
          "metadata": {}
        }
      ]
    },
    {
      "cell_type": "code",
      "source": [
        "enhance_pubmed_abstract(24633056)"
      ],
      "metadata": {
        "colab": {
          "base_uri": "https://localhost:8080/",
          "height": 372
        },
        "id": "Alvz1916ZM_y",
        "outputId": "e70db78a-97bf-4a3e-cf7e-525c94f65492"
      },
      "execution_count": null,
      "outputs": [
        {
          "output_type": "display_data",
          "data": {
            "text/plain": [
              "<IPython.core.display.HTML object>"
            ],
            "text/html": [
              "<h2>Original:</h2>"
            ]
          },
          "metadata": {}
        },
        {
          "output_type": "display_data",
          "data": {
            "text/plain": [
              "<IPython.core.display.HTML object>"
            ],
            "text/html": [
              "<p>\n",
              "<strong class=\"sub-title\">\n",
              "          Objective:\n",
              "        </strong>\n",
              "      \n",
              "      To evaluate the performance (efficacy, safety and acceptability) of a new micro-adherent absorbent dressing (UrgoClean®) compared with a hydrofiber dressing (Aquacel®) in the local management of venous leg ulcers, in the debridement stage.\n",
              "    </p><p>\n",
              "<strong class=\"sub-title\">\n",
              "          Method:\n",
              "        </strong>\n",
              "      \n",
              "      A non-inferiority European randomised controlled clinical trial (RCT) was conducted in 37 centres, on patients presenting with venous or predominantly venous, mixed aetiology leg ulcers at their sloughy stage (with more than 70% of the wound bed covered with slough at baseline). Patients were followed over a 6-week period and assessed weekly. The primary judgement criteria was the relative regression of the wound surface area after the 6-week treatment period. Secondary endpoints were the relative reduction of sloughy tissue and the percentage of patients presenting with a debrided wound.\n",
              "    </p><p>\n",
              "<strong class=\"sub-title\">\n",
              "          Results:\n",
              "        </strong>\n",
              "      \n",
              "      Altogether, 159 patients were randomised to either UrgoClean (test group; n=83) or Aquacel (control group; n=76) dressings. Regarding the wound healing process predictive factors (wound area, duration, ABPI value, recurrence), at baseline, the two groups were well balanced, for both wound and patient characteristics. Compression therapy was administered to both groups and after a median 42-day treatment period, the percentage of relative reduction of the wound surface area was very similar (-36.9% vs -35.4% in the UrgoClean and control groups, respectively). When considering the secondary criteria at week 6, the relative reduction of sloughy tissue was significantly higher in the UrgoClean group than in the control group (-65.3% vs -42,6%; p=0.013). The percentage of debrided wounds was also significantly higher in the test group (52.5% vs 35.1%; p=0.033).\n",
              "    </p><p>\n",
              "<strong class=\"sub-title\">\n",
              "          Conclusion:\n",
              "        </strong>\n",
              "      \n",
              "      This 'EARTH' RCT confirmed that the UrgoClean dressing has similar efficacy and safety compared to Aquacel. However, UrgoClean also showed better autolytic properties than the control group in the management of venous leg ulcers at the sloughy stage. The new UrgoClean dressing therefore represents a promising therapeutic option within the current range of autolytic dressings available.\n",
              "    </p><p>\n",
              "<strong class=\"sub-title\">\n",
              "          Declaration of interest:\n",
              "        </strong>\n",
              "      \n",
              "      This study was sponsored by a grant from the pharmaceutical company Laboratoires Urgo. S. Bohbot and O. Tacca are employees of Laboratoires Urgo. S. Meaume, J. Dissemond and G. Perceau have received monetary compensation as presenters for Laboratoires Urgo. Data management and statistical analyses were conducted independently by Vertical (Paris, France).\n",
              "    </p>"
            ]
          },
          "metadata": {}
        },
        {
          "output_type": "display_data",
          "data": {
            "text/plain": [
              "<IPython.core.display.HTML object>"
            ],
            "text/html": [
              "<h2>Enhanced:</h2>"
            ]
          },
          "metadata": {}
        },
        {
          "output_type": "display_data",
          "data": {
            "text/plain": [
              "<IPython.core.display.HTML object>"
            ],
            "text/html": [
              "<p>N/A</p>"
            ]
          },
          "metadata": {}
        }
      ]
    },
    {
      "cell_type": "code",
      "source": [
        "enhance_pubmed_abstract(29902546)"
      ],
      "metadata": {
        "colab": {
          "base_uri": "https://localhost:8080/",
          "height": 306
        },
        "id": "fuj7TFMIZhp-",
        "outputId": "8cb35b40-8dba-4f1a-ce18-954f92639354"
      },
      "execution_count": null,
      "outputs": [
        {
          "output_type": "error",
          "ename": "PaperNotRCT",
          "evalue": "ignored",
          "traceback": [
            "\u001b[0;31m---------------------------------------------------------------------------\u001b[0m",
            "\u001b[0;31mPaperNotRCT\u001b[0m                               Traceback (most recent call last)",
            "\u001b[0;32m<ipython-input-8-e64fb66b37cd>\u001b[0m in \u001b[0;36m<cell line: 1>\u001b[0;34m()\u001b[0m\n\u001b[0;32m----> 1\u001b[0;31m \u001b[0menhance_pubmed_abstract\u001b[0m\u001b[0;34m(\u001b[0m\u001b[0;36m29902546\u001b[0m\u001b[0;34m)\u001b[0m\u001b[0;34m\u001b[0m\u001b[0;34m\u001b[0m\u001b[0m\n\u001b[0m",
            "\u001b[0;32m<ipython-input-5-8b412d7fa1ec>\u001b[0m in \u001b[0;36menhance_pubmed_abstract\u001b[0;34m(paper_id)\u001b[0m\n\u001b[1;32m     25\u001b[0m   \u001b[0mpublication_types\u001b[0m \u001b[0;34m=\u001b[0m \u001b[0;34m[\u001b[0m\u001b[0mb\u001b[0m\u001b[0;34m.\u001b[0m\u001b[0mtext\u001b[0m\u001b[0;34m.\u001b[0m\u001b[0mstrip\u001b[0m\u001b[0;34m(\u001b[0m\u001b[0;34m)\u001b[0m \u001b[0;32mfor\u001b[0m \u001b[0mb\u001b[0m \u001b[0;32min\u001b[0m \u001b[0mdoc\u001b[0m\u001b[0;34m.\u001b[0m\u001b[0mfind\u001b[0m\u001b[0;34m(\u001b[0m\u001b[0mid\u001b[0m\u001b[0;34m=\u001b[0m\u001b[0;34m\"publication-types\"\u001b[0m\u001b[0;34m)\u001b[0m\u001b[0;34m.\u001b[0m\u001b[0mfind_all\u001b[0m\u001b[0;34m(\u001b[0m\u001b[0;34m\"button\"\u001b[0m\u001b[0;34m)\u001b[0m\u001b[0;34m]\u001b[0m\u001b[0;34m\u001b[0m\u001b[0;34m\u001b[0m\u001b[0m\n\u001b[1;32m     26\u001b[0m   \u001b[0;32mif\u001b[0m \u001b[0;34m\"Randomized Controlled Trial\"\u001b[0m \u001b[0;32mnot\u001b[0m \u001b[0;32min\u001b[0m \u001b[0mpublication_types\u001b[0m\u001b[0;34m:\u001b[0m\u001b[0;34m\u001b[0m\u001b[0;34m\u001b[0m\u001b[0m\n\u001b[0;32m---> 27\u001b[0;31m     \u001b[0;32mraise\u001b[0m \u001b[0mPaperNotRCT\u001b[0m\u001b[0;34m(\u001b[0m\u001b[0mpublication_types\u001b[0m\u001b[0;34m)\u001b[0m\u001b[0;34m\u001b[0m\u001b[0;34m\u001b[0m\u001b[0m\n\u001b[0m\u001b[1;32m     28\u001b[0m   \u001b[0mabstract\u001b[0m \u001b[0;34m=\u001b[0m \u001b[0mdoc\u001b[0m\u001b[0;34m.\u001b[0m\u001b[0mfind\u001b[0m\u001b[0;34m(\u001b[0m\u001b[0mid\u001b[0m \u001b[0;34m=\u001b[0m \u001b[0;34m\"eng-abstract\"\u001b[0m\u001b[0;34m)\u001b[0m\u001b[0;34m\u001b[0m\u001b[0;34m\u001b[0m\u001b[0m\n\u001b[1;32m     29\u001b[0m   \u001b[0;32mif\u001b[0m \u001b[0mlen\u001b[0m\u001b[0;34m(\u001b[0m\u001b[0mabstract\u001b[0m\u001b[0;34m.\u001b[0m\u001b[0mfind_all\u001b[0m\u001b[0;34m(\u001b[0m\u001b[0;34m\"strong\"\u001b[0m\u001b[0;34m,\u001b[0m \u001b[0;34m{\u001b[0m\u001b[0;34m\"class\"\u001b[0m\u001b[0;34m:\u001b[0m \u001b[0;34m\"sub-title\"\u001b[0m\u001b[0;34m}\u001b[0m\u001b[0;34m)\u001b[0m\u001b[0;34m)\u001b[0m \u001b[0;34m>\u001b[0m \u001b[0;36m0\u001b[0m\u001b[0;34m:\u001b[0m\u001b[0;34m\u001b[0m\u001b[0;34m\u001b[0m\u001b[0m\n",
            "\u001b[0;31mPaperNotRCT\u001b[0m: Paper must be 'Randomized Controlled Trial', but it's 'Meta-Analysis', 'Review'"
          ]
        }
      ]
    }
  ]
}