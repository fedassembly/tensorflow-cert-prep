{
  "nbformat": 4,
  "nbformat_minor": 0,
  "metadata": {
    "colab": {
      "provenance": [],
      "authorship_tag": "ABX9TyPwpUUACaBn8mw+8H6uQygK",
      "include_colab_link": true
    },
    "kernelspec": {
      "name": "python3",
      "display_name": "Python 3"
    },
    "language_info": {
      "name": "python"
    }
  },
  "cells": [
    {
      "cell_type": "markdown",
      "metadata": {
        "id": "view-in-github",
        "colab_type": "text"
      },
      "source": [
        "<a href=\"https://colab.research.google.com/github/fedassembly/tensorflow-cert-prep/blob/main/00_TensorFlow_Fundamentals_Exercises.ipynb\" target=\"_parent\"><img src=\"https://colab.research.google.com/assets/colab-badge.svg\" alt=\"Open In Colab\"/></a>"
      ]
    },
    {
      "cell_type": "code",
      "source": [
        "import tensorflow as tf\n",
        "tf.__version__"
      ],
      "metadata": {
        "colab": {
          "base_uri": "https://localhost:8080/",
          "height": 36
        },
        "id": "yidY_6SIXUsE",
        "outputId": "fb51c0e3-ecc3-4963-f9c9-3dd871711fb0"
      },
      "execution_count": 1,
      "outputs": [
        {
          "output_type": "execute_result",
          "data": {
            "text/plain": [
              "'2.13.0'"
            ],
            "application/vnd.google.colaboratory.intrinsic+json": {
              "type": "string"
            }
          },
          "metadata": {},
          "execution_count": 1
        }
      ]
    },
    {
      "cell_type": "markdown",
      "source": [
        "Create a vector, scalar, matrix and tensor with values of your choosing using tf.constant()."
      ],
      "metadata": {
        "id": "FUHs9tRqBnZv"
      }
    },
    {
      "cell_type": "code",
      "source": [
        "scalar = tf.constant(1)\n",
        "vector = tf.constant([1, 2])\n",
        "matrix = tf.constant([[1,2],[3,4]])\n",
        "tensor = tf.constant([[[1,2],[3,4]],[[5,6],[7,8]]])"
      ],
      "metadata": {
        "id": "Jm7ZICgXXTpM"
      },
      "execution_count": 2,
      "outputs": []
    },
    {
      "cell_type": "markdown",
      "source": [
        "Find the shape, rank and size of the tensors you created in 1."
      ],
      "metadata": {
        "id": "aLSQhNVvXESC"
      }
    },
    {
      "cell_type": "code",
      "source": [
        "def describe_(x):\n",
        "  x_name = [k for k, v in globals().items() if v is x][0]\n",
        "  print(f\"Shape of {x_name}: {x.shape}\")\n",
        "  print(f\"Rank of {x_name}: {x.ndim}\")\n",
        "  print(f\"Size of {x_name}: {tf.size(x).numpy()}\")\n",
        "  print(\"------------\")\n",
        "\n",
        "describe_(scalar)\n",
        "describe_(vector)\n",
        "describe_(matrix)\n",
        "describe_(tensor)"
      ],
      "metadata": {
        "colab": {
          "base_uri": "https://localhost:8080/"
        },
        "id": "UV76bvRmX6ql",
        "outputId": "570b334a-bc0b-480b-fa81-d76795d1096f"
      },
      "execution_count": 3,
      "outputs": [
        {
          "output_type": "stream",
          "name": "stdout",
          "text": [
            "Shape of scalar: ()\n",
            "Rank of scalar: 0\n",
            "Size of scalar: 1\n",
            "------------\n",
            "Shape of vector: (2,)\n",
            "Rank of vector: 1\n",
            "Size of vector: 2\n",
            "------------\n",
            "Shape of matrix: (2, 2)\n",
            "Rank of matrix: 2\n",
            "Size of matrix: 4\n",
            "------------\n",
            "Shape of tensor: (2, 2, 2)\n",
            "Rank of tensor: 3\n",
            "Size of tensor: 8\n",
            "------------\n"
          ]
        }
      ]
    },
    {
      "cell_type": "markdown",
      "source": [
        "Create two tensors containing random values between 0 and 1 with shape [5, 300]."
      ],
      "metadata": {
        "id": "6jYOLA9iXGIw"
      }
    },
    {
      "cell_type": "code",
      "source": [
        "tf.random.set_seed(42)\n",
        "A = tf.random.uniform(shape=[5, 300], minval=0., maxval=1.)\n",
        "B = tf.random.uniform(shape=[5, 300], minval=0., maxval=1.)"
      ],
      "metadata": {
        "id": "TJw-CX9WbRvQ"
      },
      "execution_count": 4,
      "outputs": []
    },
    {
      "cell_type": "markdown",
      "source": [
        "Multiply the two tensors you created in 3 using matrix multiplication."
      ],
      "metadata": {
        "id": "Zq3tkyFzXJOa"
      }
    },
    {
      "cell_type": "code",
      "source": [
        "tf.matmul(A, B, transpose_b=True)"
      ],
      "metadata": {
        "colab": {
          "base_uri": "https://localhost:8080/"
        },
        "id": "Etms9qb1c8fP",
        "outputId": "1d13aee3-204b-4e62-a38a-e955eea9c6fe"
      },
      "execution_count": 5,
      "outputs": [
        {
          "output_type": "execute_result",
          "data": {
            "text/plain": [
              "<tf.Tensor: shape=(5, 5), dtype=float32, numpy=\n",
              "array([[80.33345 , 73.40498 , 77.159615, 73.98369 , 80.90053 ],\n",
              "       [75.146355, 68.80437 , 74.24302 , 71.841835, 75.60206 ],\n",
              "       [79.7594  , 75.644554, 77.797585, 74.74873 , 80.559845],\n",
              "       [75.08526 , 69.064064, 74.30776 , 72.27616 , 76.05669 ],\n",
              "       [85.05688 , 74.26627 , 78.00687 , 74.88679 , 83.13417 ]],\n",
              "      dtype=float32)>"
            ]
          },
          "metadata": {},
          "execution_count": 5
        }
      ]
    },
    {
      "cell_type": "markdown",
      "source": [
        "Multiply the two tensors you created in 3 using dot product."
      ],
      "metadata": {
        "id": "9adiAVAYXLDP"
      }
    },
    {
      "cell_type": "code",
      "source": [
        "tf.tensordot(A, tf.transpose(B), axes=1)"
      ],
      "metadata": {
        "colab": {
          "base_uri": "https://localhost:8080/"
        },
        "id": "eiFXv7gSdqmp",
        "outputId": "ad5740e6-cf7a-4c12-d9f7-c2ed1024e3e4"
      },
      "execution_count": 6,
      "outputs": [
        {
          "output_type": "execute_result",
          "data": {
            "text/plain": [
              "<tf.Tensor: shape=(5, 5), dtype=float32, numpy=\n",
              "array([[80.33345 , 73.40498 , 77.159615, 73.98369 , 80.90053 ],\n",
              "       [75.146355, 68.80437 , 74.24302 , 71.841835, 75.60206 ],\n",
              "       [79.7594  , 75.644554, 77.797585, 74.74873 , 80.559845],\n",
              "       [75.08526 , 69.064064, 74.30776 , 72.27616 , 76.05669 ],\n",
              "       [85.05688 , 74.26627 , 78.00687 , 74.88679 , 83.13417 ]],\n",
              "      dtype=float32)>"
            ]
          },
          "metadata": {},
          "execution_count": 6
        }
      ]
    },
    {
      "cell_type": "markdown",
      "source": [
        "Create a tensor with random values between 0 and 1 with shape [224, 224, 3]."
      ],
      "metadata": {
        "id": "-Bg-1I8EXMjl"
      }
    },
    {
      "cell_type": "code",
      "source": [
        "C = tf.random.uniform(shape=[224, 224, 3])"
      ],
      "metadata": {
        "id": "9oOSgjDEfchY"
      },
      "execution_count": 7,
      "outputs": []
    },
    {
      "cell_type": "markdown",
      "source": [
        "Find the min and max values of the tensor you created in 6\n",
        "\n"
      ],
      "metadata": {
        "id": "4bqqWVU3XN-0"
      }
    },
    {
      "cell_type": "code",
      "source": [
        "tf.reduce_min(C).numpy() ,tf.reduce_max(C).numpy()"
      ],
      "metadata": {
        "colab": {
          "base_uri": "https://localhost:8080/"
        },
        "id": "rPK7jVjuf4O4",
        "outputId": "37a3f142-f098-4737-dc95-a97e0e4897d7"
      },
      "execution_count": 8,
      "outputs": [
        {
          "output_type": "execute_result",
          "data": {
            "text/plain": [
              "(2.3841858e-07, 0.9999918)"
            ]
          },
          "metadata": {},
          "execution_count": 8
        }
      ]
    },
    {
      "cell_type": "markdown",
      "source": [
        "Created a tensor with random values of shape [1, 224, 224, 3] then squeeze it to change the shape to [224, 224, 3]."
      ],
      "metadata": {
        "id": "NMV-ypPhXPV7"
      }
    },
    {
      "cell_type": "code",
      "source": [
        "D = tf.random.uniform(shape=[1, 224, 224, 3])\n",
        "tf.squeeze(D).shape"
      ],
      "metadata": {
        "colab": {
          "base_uri": "https://localhost:8080/"
        },
        "id": "PXU6vB5jjSQI",
        "outputId": "7432ab25-7e82-4f4a-9d58-58d080486cdf"
      },
      "execution_count": 9,
      "outputs": [
        {
          "output_type": "execute_result",
          "data": {
            "text/plain": [
              "TensorShape([224, 224, 3])"
            ]
          },
          "metadata": {},
          "execution_count": 9
        }
      ]
    },
    {
      "cell_type": "markdown",
      "source": [
        "Create a tensor with shape [10] using your own choice of values, then find the index which has the maximum value."
      ],
      "metadata": {
        "id": "LFD5s1AbXQ7p"
      }
    },
    {
      "cell_type": "code",
      "source": [
        "E = tf.constant([1,1,1,0,0,0,2,2,4,3])\n",
        "assert tf.argmax(E).numpy() == 8"
      ],
      "metadata": {
        "id": "TfSMbHpljeUp"
      },
      "execution_count": 10,
      "outputs": []
    },
    {
      "cell_type": "markdown",
      "source": [
        "\n",
        "One-hot encode the tensor you created in 9."
      ],
      "metadata": {
        "id": "pgIVQ8AlXSfr"
      }
    },
    {
      "cell_type": "code",
      "source": [
        "tf.one_hot(E, depth=tf.size(tf.unique(E).y).numpy())"
      ],
      "metadata": {
        "colab": {
          "base_uri": "https://localhost:8080/"
        },
        "id": "4fuaI72QkGnZ",
        "outputId": "b1de9caa-361f-4dc6-b314-ec8688a0c174"
      },
      "execution_count": 11,
      "outputs": [
        {
          "output_type": "execute_result",
          "data": {
            "text/plain": [
              "<tf.Tensor: shape=(10, 5), dtype=float32, numpy=\n",
              "array([[0., 1., 0., 0., 0.],\n",
              "       [0., 1., 0., 0., 0.],\n",
              "       [0., 1., 0., 0., 0.],\n",
              "       [1., 0., 0., 0., 0.],\n",
              "       [1., 0., 0., 0., 0.],\n",
              "       [1., 0., 0., 0., 0.],\n",
              "       [0., 0., 1., 0., 0.],\n",
              "       [0., 0., 1., 0., 0.],\n",
              "       [0., 0., 0., 0., 1.],\n",
              "       [0., 0., 0., 1., 0.]], dtype=float32)>"
            ]
          },
          "metadata": {},
          "execution_count": 11
        }
      ]
    },
    {
      "cell_type": "code",
      "source": [],
      "metadata": {
        "id": "ddftLbz1lbbz"
      },
      "execution_count": 11,
      "outputs": []
    }
  ]
}